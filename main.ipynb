{
 "cells": [
  {
   "cell_type": "markdown",
   "metadata": {},
   "source": [
    "作業二我是使用範例稍做改造成簡單的cnn"
   ]
  },
  {
   "cell_type": "code",
   "execution_count": 1,
   "metadata": {},
   "outputs": [
    {
     "name": "stderr",
     "output_type": "stream",
     "text": [
      "Using TensorFlow backend.\n"
     ]
    }
   ],
   "source": [
    "import numpy as np\n",
    "import pandas as pd\n",
    "from keras.utils import np_utils  # 用來後續將 label 標籤轉為 one-hot-encoding\n",
    "\n",
    "np.random.seed(10)"
   ]
  },
  {
   "cell_type": "markdown",
   "metadata": {},
   "source": [
    "# 1.引入資料\n",
    "從keras的datasets中拿取mnist的手寫數字資料來練習"
   ]
  },
  {
   "cell_type": "code",
   "execution_count": 2,
   "metadata": {},
   "outputs": [],
   "source": [
    "from keras.datasets import mnist"
   ]
  },
  {
   "cell_type": "code",
   "execution_count": 3,
   "metadata": {},
   "outputs": [
    {
     "name": "stdout",
     "output_type": "stream",
     "text": [
      "\t[Info] Shape of train data=(60000, 28, 28)\n",
      "\t[Info] Shape of train label=(60000,)\n",
      "\t[Info] Shape of test data=(10000, 28, 28)\n",
      "\t[Info] Shape of test label=(10000,)\n"
     ]
    }
   ],
   "source": [
    "(X_train_image, y_train_label), (X_test_image, y_test_label) = mnist.load_data()\n",
    "#將訓練資料分成X_train_image為input，y_train_label為訓練用output\n",
    "#將測試資料分成X_test_image為input，y_test_label為需要預測的資料\n",
    "\n",
    "print(\"\\t[Info] Shape of train data=%s\" % (str(X_train_image.shape))) #看看兩邊的資料有多少，並同時看看圖片的shape\n",
    "print(\"\\t[Info] Shape of train label=%s\" % (str(y_train_label.shape)))\n",
    "print(\"\\t[Info] Shape of test data=%s\" % (str(X_test_image.shape))) #看看兩邊的資料有多少，並同時看看圖片的shape\n",
    "print(\"\\t[Info] Shape of test label=%s\" % (str(y_test_label.shape)))"
   ]
  },
  {
   "cell_type": "markdown",
   "metadata": {},
   "source": [
    "從印出的Info可以看出總共有60000張圖可以拿來訓練，10000張圖需要預測，而圖的大小是28*28個pixel，且看起來是灰階，因為沒有第四個維度去紀錄RGB"
   ]
  },
  {
   "cell_type": "markdown",
   "metadata": {},
   "source": [
    "# 2.看看內容和畫圖函式"
   ]
  },
  {
   "cell_type": "code",
   "execution_count": 4,
   "metadata": {},
   "outputs": [],
   "source": [
    "import matplotlib.pyplot as plt\n",
    "def plot_image(image):\n",
    "    fig = plt.gcf() #選擇拿已有的圖來畫\n",
    "    fig.set_size_inches(2, 2) #設置成大小為2吋 * 2吋(5.08 * 5.08 cm^2)\n",
    "    plt.imshow(image, cmap='binary') # cmap='binary' 參數設定以黑白灰階顯示\n",
    "    plt.show()"
   ]
  },
  {
   "cell_type": "code",
   "execution_count": 5,
   "metadata": {},
   "outputs": [
    {
     "data": {
      "image/png": "[encoded data removed]",
      "text/plain": [
       "<Figure size 144x144 with 1 Axes>"
      ]
     },
     "metadata": {},
     "output_type": "display_data"
    }
   ],
   "source": [
    "plot_image(X_train_image[0]) #試著畫出訓練資料的第一張圖"
   ]
  },
  {
   "cell_type": "code",
   "execution_count": 6,
   "metadata": {},
   "outputs": [
    {
     "data": {
      "text/plain": [
       "5"
      ]
     },
     "execution_count": 6,
     "metadata": {},
     "output_type": "execute_result"
    }
   ],
   "source": [
    "y_train_label[0] #印出第一張圖的label(答案)，比對一下"
   ]
  },
  {
   "cell_type": "code",
   "execution_count": 7,
   "metadata": {},
   "outputs": [],
   "source": [
    "#畫圖時順便讓title帶有正確答案和預測值(如果有給預測值)\n",
    "def plot_images_labels_predict(images, labels, prediction, idx, num=10):  \n",
    "    fig = plt.gcf()  \n",
    "    fig.set_size_inches(12, 14) \n",
    "    if num > 25: num = 25  #限定最多畫25張圖\n",
    "    for i in range(0, num):  \n",
    "        ax=plt.subplot(5,5, 1+i)  \n",
    "        ax.imshow(images[idx], cmap='binary')  \n",
    "        if len(prediction) > i:  \n",
    "            title = \"l={},p={}\".format(str(labels[idx]), str(prediction[idx])) #如果有預測值則印出帶有label和預測值(p)的title\n",
    "        else:  \n",
    "            title = \"l={}\".format(str(labels[idx])) #沒有預測值就指印出帶有label的title\n",
    "        ax.set_title(title, fontsize=10) # 設置title的字體大小為10\n",
    "        ax.set_xticks([]); ax.set_yticks([])  #設置讓他不顯示刻度(x軸和y軸不帶有數字)\n",
    "        idx+=1  \n",
    "    plt.show()"
   ]
  },
  {
   "cell_type": "code",
   "execution_count": 8,
   "metadata": {},
   "outputs": [
    {
     "data": {
      "image/png": "[encoded data removed]",
      "text/plain": [
       "<Figure size 864x1008 with 10 Axes>"
      ]
     },
     "metadata": {},
     "output_type": "display_data"
    }
   ],
   "source": [
    "plot_images_labels_predict(X_train_image, y_train_label, [], 0, 10) #試著使用看看，讓prediction為空陣列，title只印出label\n"
   ]
  },
  {
   "cell_type": "markdown",
   "metadata": {},
   "source": [
    "# 3.資料預處理\n",
    "將資料正規化，並多增加一個維度channel，且因為是灰階所以只需多增加一個維度，不需其它處理<br>\n",
    "\n",
    "且將label做one-hot encoding的轉換"
   ]
  },
  {
   "cell_type": "code",
   "execution_count": 9,
   "metadata": {},
   "outputs": [
    {
     "name": "stdout",
     "output_type": "stream",
     "text": [
      "[Info] xTrain: (60000, 28, 28)\n",
      "[Info] xTest: (10000, 28, 28)\n",
      "1.0\n",
      "0.0\n"
     ]
    }
   ],
   "source": [
    "\n",
    "print(\"[Info] xTrain: %s\" % (str(X_train_image.shape)))\n",
    "print(\"[Info] xTest: %s\" % (str(X_test_image.shape)))\n",
    "  \n",
    "# Normalization\n",
    "x_Train_norm = X_train_image/255\n",
    "print(x_Train_norm.max())# 確認有沒有成功使其介於0~1\n",
    "print(x_Train_norm.min())\n",
    "x_Test_norm = X_test_image/255"
   ]
  },
  {
   "cell_type": "code",
   "execution_count": 10,
   "metadata": {},
   "outputs": [],
   "source": [
    "x_Train_norm = x_Train_norm[:,:,:,np.newaxis]#為了能fit進Conv2d需要多加一個維度\n",
    "x_Test_norm = x_Test_norm[:,:,:,np.newaxis]"
   ]
  },
  {
   "cell_type": "code",
   "execution_count": 11,
   "metadata": {},
   "outputs": [
    {
     "data": {
      "text/plain": [
       "array([[0., 0., 0., 0., 0., 1., 0., 0., 0., 0.]], dtype=float32)"
      ]
     },
     "execution_count": 11,
     "metadata": {},
     "output_type": "execute_result"
    }
   ],
   "source": [
    "#one-hot encoding的目的是讓分類也能用數字表示，如今天是估計值就不需要，且最後也不需要有softmax的activation function\n",
    "y_TrainOneHot = np_utils.to_categorical(y_train_label) # 將 training 的 label 進行 one-hot encoding\n",
    "y_TestOneHot = np_utils.to_categorical(y_test_label) # 將測試的 labels 進行 one-hot encoding \n",
    "\n",
    "y_train_label[0] # 檢視 training labels 第一個 label 的值\n",
    "y_TrainOneHot[:1] # 檢視第一個 label 在 one-hot encoding 後的結果, 會在第六個位置上為 1, 其他位置上為 0"
   ]
  },
  {
   "cell_type": "markdown",
   "metadata": {},
   "source": [
    "# 4. 創建模型\n",
    "選擇適當的layer、activation和loss function等等"
   ]
  },
  {
   "cell_type": "code",
   "execution_count": 12,
   "metadata": {},
   "outputs": [],
   "source": [
    "from keras.models import Sequential  \n",
    "from keras.layers import Dense  \n",
    "from keras.layers import Conv2D #引入以2維數據當input的卷積層\n",
    "from keras.layers import Flatten #引入將多維壓扁成一維的層\n",
    "model = Sequential()  # Build Linear Model  \n",
    "\n",
    "model.add(Conv2D(filters=256, kernel_size=3,activation='relu', kernel_initializer='normal'))# Add Input/hidden layer\n",
    "model.add(Flatten()) # 將前面Conv2D的多維filter壓扁，讓Dense層能接收\n",
    "model.add(Dense(units=10, kernel_initializer='normal', activation='softmax')) # Add Hidden/output layer  \n"
   ]
  },
  {
   "cell_type": "code",
   "execution_count": 13,
   "metadata": {},
   "outputs": [],
   "source": [
    "model.compile(loss='categorical_crossentropy', optimizer='adam', metrics=['accuracy'])\n",
    "#選擇loss function和optimizer，錯誤率(分數)計算方式為準確度(accuracy)"
   ]
  },
  {
   "cell_type": "markdown",
   "metadata": {},
   "source": [
    "# 5.開始訓練\n",
    "- 將處理好的input(x_Train_norm)和正確答案輸入(y_TrainOneHot)\n",
    "- 切割20%的訓練資料做為驗證資料(validation_split)\n",
    "- 訓練10個回合(epochs)\n",
    "- 每回合訓練200個image(batch_size)\n",
    "- 顯示每回合的loss和準確度(verbose=2)\n",
    "- 看看模型的整體計算量和神經元數"
   ]
  },
  {
   "cell_type": "code",
   "execution_count": 14,
   "metadata": {},
   "outputs": [
    {
     "name": "stdout",
     "output_type": "stream",
     "text": [
      "Train on 48000 samples, validate on 12000 samples\n",
      "Epoch 1/10\n",
      " - 108s - loss: 0.2333 - acc: 0.9302 - val_loss: 0.0905 - val_acc: 0.9762\n",
      "Epoch 2/10\n",
      " - 15s - loss: 0.0692 - acc: 0.9807 - val_loss: 0.0705 - val_acc: 0.9795\n",
      "Epoch 3/10\n",
      " - 15s - loss: 0.0440 - acc: 0.9868 - val_loss: 0.0754 - val_acc: 0.9779\n",
      "Epoch 4/10\n",
      " - 15s - loss: 0.0303 - acc: 0.9907 - val_loss: 0.0719 - val_acc: 0.9793\n",
      "Epoch 5/10\n",
      " - 15s - loss: 0.0217 - acc: 0.9941 - val_loss: 0.0786 - val_acc: 0.9789\n",
      "Epoch 6/10\n",
      " - 16s - loss: 0.0159 - acc: 0.9958 - val_loss: 0.0730 - val_acc: 0.9808\n",
      "Epoch 7/10\n",
      " - 16s - loss: 0.0120 - acc: 0.9970 - val_loss: 0.0794 - val_acc: 0.9785\n",
      "Epoch 8/10\n",
      " - 16s - loss: 0.0094 - acc: 0.9977 - val_loss: 0.0766 - val_acc: 0.9808\n",
      "Epoch 9/10\n",
      " - 16s - loss: 0.0057 - acc: 0.9987 - val_loss: 0.0838 - val_acc: 0.9801\n",
      "Epoch 10/10\n",
      " - 16s - loss: 0.0044 - acc: 0.9991 - val_loss: 0.0800 - val_acc: 0.9813\n",
      "[Info] Model summary:\n",
      "_________________________________________________________________\n",
      "Layer (type)                 Output Shape              Param #   \n",
      "=================================================================\n",
      "conv2d_1 (Conv2D)            (None, 26, 26, 256)       2560      \n",
      "_________________________________________________________________\n",
      "flatten_1 (Flatten)          (None, 173056)            0         \n",
      "_________________________________________________________________\n",
      "dense_1 (Dense)              (None, 10)                1730570   \n",
      "=================================================================\n",
      "Total params: 1,733,130\n",
      "Trainable params: 1,733,130\n",
      "Non-trainable params: 0\n",
      "_________________________________________________________________\n"
     ]
    }
   ],
   "source": [
    "train_history = model.fit(x=x_Train_norm, \n",
    "                          y=y_TrainOneHot, \n",
    "                          validation_split=0.2, \n",
    "                          epochs=10, \n",
    "                          batch_size=200, \n",
    "                          verbose=2)\n",
    "\n",
    "print(\"[Info] Model summary:\")  \n",
    "model.summary()  "
   ]
  },
  {
   "cell_type": "markdown",
   "metadata": {},
   "source": [
    "# 6.成果展示\n",
    "將準確度和loss的變化畫出來"
   ]
  },
  {
   "cell_type": "code",
   "execution_count": 15,
   "metadata": {},
   "outputs": [],
   "source": [
    "#建立畫圖的函式以重複使用\n",
    "import matplotlib.pyplot as plt  \n",
    "def show_train_history(train_history, train, validation):  \n",
    "    plt.plot(train_history.history[train])  \n",
    "    plt.plot(train_history.history[validation])  \n",
    "    plt.title('Train History')  \n",
    "    plt.ylabel(train)  \n",
    "    plt.xlabel('Epoch')  \n",
    "    plt.legend(['train', 'validation'], loc='upper left')  \n",
    "    plt.show()"
   ]
  },
  {
   "cell_type": "code",
   "execution_count": 16,
   "metadata": {},
   "outputs": [
    {
     "data": {
      "image/png": "[encoded data removed]",
      "text/plain": [
       "<Figure size 432x288 with 1 Axes>"
      ]
     },
     "metadata": {},
     "output_type": "display_data"
    }
   ],
   "source": [
    "show_train_history(train_history, 'acc', 'val_acc')\n",
    "#看看準確度在測試資料和訓練資料的變化"
   ]
  },
  {
   "cell_type": "code",
   "execution_count": 17,
   "metadata": {},
   "outputs": [
    {
     "data": {
      "image/png": "[encoded data removed]",
      "text/plain": [
       "<Figure size 432x288 with 1 Axes>"
      ]
     },
     "metadata": {},
     "output_type": "display_data"
    }
   ],
   "source": [
    "show_train_history(train_history, 'loss', 'val_loss')\n",
    "#看看loss(類似錯誤率，所以愈低愈好)在測試資料和訓練資料的變化"
   ]
  },
  {
   "cell_type": "code",
   "execution_count": 18,
   "metadata": {},
   "outputs": [
    {
     "name": "stdout",
     "output_type": "stream",
     "text": [
      "10000/10000 [==============================] - 2s 193us/step\n",
      "\n",
      "\t[Info] Accuracy of testing data = 98.3%\n"
     ]
    }
   ],
   "source": [
    "scores = model.evaluate(x_Test_norm, y_TestOneHot)  \n",
    "print()  \n",
    "print(\"\\t[Info] Accuracy of testing data = {:2.1f}%\".format(scores[1]*100.0))\n",
    "#可以看到在測驗資料上準確度有不錯的數字"
   ]
  },
  {
   "cell_type": "code",
   "execution_count": 19,
   "metadata": {},
   "outputs": [
    {
     "name": "stdout",
     "output_type": "stream",
     "text": [
      "\t[Info] Making prediction to x_Test_norm\n",
      "\n",
      "\t[Info] Show 10 prediction result (From 240):\n",
      "[2 8 6 3 3 8 6 5 4 0]\n",
      "\n"
     ]
    },
    {
     "data": {
      "image/png": "[encoded data removed]",
      "text/plain": [
       "<Figure size 864x1008 with 10 Axes>"
      ]
     },
     "metadata": {},
     "output_type": "display_data"
    }
   ],
   "source": [
    "print(\"\\t[Info] Making prediction to x_Test_norm\")  \n",
    "prediction = model.predict_classes(x_Test_norm)  # 做出預測，並且儲存起來\n",
    "print()  \n",
    "print(\"\\t[Info] Show 10 prediction result (From 240):\")  \n",
    "index = np.random.randint(0, len(prediction)-10) #因為要印出連續十組，隨機取0~長度-10的integer\n",
    "print(\"%s\\n\" % (prediction[index:index+10]))  #印出10組預測值\n",
    "plot_images_labels_predict(X_test_image, y_test_label, prediction, idx=index) #畫出10組圖"
   ]
  },
  {
   "cell_type": "code",
   "execution_count": null,
   "metadata": {},
   "outputs": [],
   "source": []
  }
 ],
 "metadata": {
  "kernelspec": {
   "display_name": "Python 3",
   "language": "python",
   "name": "python3"
  },
  "language_info": {
   "codemirror_mode": {
    "name": "ipython",
    "version": 3
   },
   "file_extension": ".py",
   "mimetype": "text/x-python",
   "name": "python",
   "nbconvert_exporter": "python",
   "pygments_lexer": "ipython3",
   "version": "3.6.6"
  }
 },
 "nbformat": 4,
 "nbformat_minor": 2
}
